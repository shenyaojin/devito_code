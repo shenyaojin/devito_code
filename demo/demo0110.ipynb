{
 "cells": [
  {
   "cell_type": "code",
   "execution_count": 29,
   "id": "initial_id",
   "metadata": {
    "collapsed": true,
    "ExecuteTime": {
     "end_time": "2024-01-11T03:11:03.675980849Z",
     "start_time": "2024-01-11T03:11:03.661477045Z"
    }
   },
   "outputs": [],
   "source": [
    "import numpy as np\n",
    "from devito import *\n",
    "import matplotlib.pyplot as plt "
   ]
  },
  {
   "cell_type": "code",
   "outputs": [],
   "source": [
    "grid = Grid(shape=(100, 100))"
   ],
   "metadata": {
    "collapsed": false,
    "ExecuteTime": {
     "end_time": "2024-01-11T03:11:03.689606043Z",
     "start_time": "2024-01-11T03:11:03.677683409Z"
    }
   },
   "id": "d418549ae2972730",
   "execution_count": 30
  },
  {
   "cell_type": "code",
   "outputs": [],
   "source": [
    "# Define the constants\n",
    "k1 = 1e-4\n",
    "k2 = 1e-5\n",
    "P_res = 100"
   ],
   "metadata": {
    "collapsed": false,
    "ExecuteTime": {
     "end_time": "2024-01-11T03:11:03.690062706Z",
     "start_time": "2024-01-11T03:11:03.687949099Z"
    }
   },
   "id": "dd1e0938429dd2f2",
   "execution_count": 31
  },
  {
   "cell_type": "code",
   "outputs": [],
   "source": [
    "# Time step parameters\n",
    "nt1 = 2600  # number of time steps\n",
    "dt = 120    # time interval in seconds/"
   ],
   "metadata": {
    "collapsed": false,
    "ExecuteTime": {
     "end_time": "2024-01-11T03:11:03.743681826Z",
     "start_time": "2024-01-11T03:11:03.689835562Z"
    }
   },
   "id": "885af77d733f321b",
   "execution_count": 32
  },
  {
   "cell_type": "code",
   "outputs": [],
   "source": [
    "P = TimeFunction(name='P', grid=grid, space_order=2, save=nt1)"
   ],
   "metadata": {
    "collapsed": false,
    "ExecuteTime": {
     "end_time": "2024-01-11T03:11:03.744269784Z",
     "start_time": "2024-01-11T03:11:03.718403811Z"
    }
   },
   "id": "a6b13e8813250fc8",
   "execution_count": 33
  },
  {
   "cell_type": "code",
   "outputs": [],
   "source": [
    "P.data[:] = 100\n",
    "center_index = (grid.shape[0] // 2, grid.shape[1] // 2)\n",
    "P.data[0, center_index[0], center_index[1]] = 0"
   ],
   "metadata": {
    "collapsed": false,
    "ExecuteTime": {
     "end_time": "2024-01-11T03:11:03.766955859Z",
     "start_time": "2024-01-11T03:11:03.718561576Z"
    }
   },
   "id": "c24f8b331e847a45",
   "execution_count": 34
  },
  {
   "cell_type": "code",
   "outputs": [],
   "source": [
    "eqn = Eq(P.dt, k1 * P.laplace + k2 * (P_res - P))"
   ],
   "metadata": {
    "collapsed": false,
    "ExecuteTime": {
     "end_time": "2024-01-11T03:11:03.767366135Z",
     "start_time": "2024-01-11T03:11:03.744171811Z"
    }
   },
   "id": "ff6c9405a32719e3",
   "execution_count": 35
  },
  {
   "cell_type": "code",
   "outputs": [],
   "source": [
    "# import Neumann BC\n"
   ],
   "metadata": {
    "collapsed": false,
    "ExecuteTime": {
     "end_time": "2024-01-11T03:11:03.769493137Z",
     "start_time": "2024-01-11T03:11:03.767466573Z"
    }
   },
   "id": "89912844cbe230c5",
   "execution_count": 36
  },
  {
   "cell_type": "code",
   "outputs": [],
   "source": [
    "# iteration format and force term\n",
    "step = Eq(P.forward, solve(eqn, P.forward))\n",
    "center_index = (grid.shape[0] // 2, grid.shape[1] // 2)\n",
    "center_constraint = Eq(P[grid.time_dim + 1, center_index[0], center_index[1]], 0)"
   ],
   "metadata": {
    "collapsed": false,
    "ExecuteTime": {
     "end_time": "2024-01-11T03:11:03.787098675Z",
     "start_time": "2024-01-11T03:11:03.769449876Z"
    }
   },
   "id": "fea4388d4c685fa7",
   "execution_count": 37
  },
  {
   "cell_type": "code",
   "outputs": [],
   "source": [
    "op = Operator([step, center_constraint])"
   ],
   "metadata": {
    "collapsed": false,
    "ExecuteTime": {
     "end_time": "2024-01-11T03:11:04.034976118Z",
     "start_time": "2024-01-11T03:11:03.792373505Z"
    }
   },
   "id": "d9f9927a2ff259b4",
   "execution_count": 38
  },
  {
   "cell_type": "code",
   "outputs": [
    {
     "data": {
      "text/plain": "(2600, 100, 100)"
     },
     "execution_count": 39,
     "metadata": {},
     "output_type": "execute_result"
    }
   ],
   "source": [
    "np.shape(P.data)"
   ],
   "metadata": {
    "collapsed": false,
    "ExecuteTime": {
     "end_time": "2024-01-11T03:11:04.078189225Z",
     "start_time": "2024-01-11T03:11:04.077308731Z"
    }
   },
   "id": "955235a006f18302",
   "execution_count": 39
  },
  {
   "cell_type": "code",
   "outputs": [
    {
     "data": {
      "text/plain": "<Figure size 640x480 with 1 Axes>",
      "image/png": "[encoded data removed]"
     },
     "metadata": {},
     "output_type": "display_data"
    }
   ],
   "source": [
    "plt.figure()\n",
    "plt.imshow(P.data[500,:,:], cmap='jet', aspect='auto')\n",
    "plt.show()"
   ],
   "metadata": {
    "collapsed": false,
    "ExecuteTime": {
     "end_time": "2024-01-11T03:11:04.121173765Z",
     "start_time": "2024-01-11T03:11:04.077582602Z"
    }
   },
   "id": "50c9c292ab45bd1",
   "execution_count": 40
  },
  {
   "cell_type": "code",
   "outputs": [
    {
     "data": {
      "text/plain": "<Figure size 640x480 with 1 Axes>",
      "image/png": "[encoded data removed]"
     },
     "metadata": {},
     "output_type": "display_data"
    }
   ],
   "source": [
    "plt.figure()\n",
    "plt.plot(P.data[:,50,50], label='center')\n",
    "plt.show()"
   ],
   "metadata": {
    "collapsed": false,
    "ExecuteTime": {
     "end_time": "2024-01-11T03:11:04.210634446Z",
     "start_time": "2024-01-11T03:11:04.123177888Z"
    }
   },
   "id": "390e7ef07d160f66",
   "execution_count": 41
  },
  {
   "cell_type": "code",
   "outputs": [],
   "source": [],
   "metadata": {
    "collapsed": false,
    "ExecuteTime": {
     "end_time": "2024-01-11T03:11:04.244039628Z",
     "start_time": "2024-01-11T03:11:04.203242262Z"
    }
   },
   "id": "9943209183756521",
   "execution_count": 41
  }
 ],
 "metadata": {
  "kernelspec": {
   "display_name": "Python 3",
   "language": "python",
   "name": "python3"
  },
  "language_info": {
   "codemirror_mode": {
    "name": "ipython",
    "version": 2
   },
   "file_extension": ".py",
   "mimetype": "text/x-python",
   "name": "python",
   "nbconvert_exporter": "python",
   "pygments_lexer": "ipython2",
   "version": "2.7.6"
  }
 },
 "nbformat": 4,
 "nbformat_minor": 5
}
